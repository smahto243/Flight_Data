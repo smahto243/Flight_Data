{
 "cells": [
  {
   "cell_type": "code",
   "execution_count": 51,
   "metadata": {
    "collapsed": false
   },
   "outputs": [
    {
     "data": {
      "text/plain": [
       "'\\nFirst, import the required Python dependencies.\\n'"
      ]
     },
     "execution_count": 51,
     "metadata": {},
     "output_type": "execute_result"
    }
   ],
   "source": [
    "\"\"\"\n",
    "First, import the required Python dependencies.\n",
    "\"\"\"\n",
    "import numpy as np\n",
    "import pandas as pd\n",
    "import matplotlib.pyplot as plt\n",
    "import seaborn as sns\n",
    "\n",
    "import matplotlib.pyplot as plt # module for plotting \n",
    "% matplotlib inline\n",
    "\n",
    "from IPython.core.interactiveshell import InteractiveShell\n",
    "InteractiveShell.ast_node_interactivity = \"all\""
   ]
  },
  {
   "cell_type": "code",
   "execution_count": 52,
   "metadata": {
    "collapsed": false
   },
   "outputs": [],
   "source": [
    "# Pandas Dataframe\n",
    "df = pd.read_csv('flight_data_cleaned.csv' )"
   ]
  },
  {
   "cell_type": "code",
   "execution_count": 100,
   "metadata": {
    "collapsed": false
   },
   "outputs": [
    {
     "data": {
      "text/html": [
       "<div>\n",
       "<table border=\"1\" class=\"dataframe\">\n",
       "  <thead>\n",
       "    <tr style=\"text-align: right;\">\n",
       "      <th></th>\n",
       "      <th>Unnamed: 0</th>\n",
       "      <th>year</th>\n",
       "      <th>month</th>\n",
       "      <th>day</th>\n",
       "      <th>dep_time</th>\n",
       "      <th>sched_dep_time</th>\n",
       "      <th>dep_delay</th>\n",
       "      <th>arr_time</th>\n",
       "      <th>sched_arr_time</th>\n",
       "      <th>arr_delay</th>\n",
       "      <th>...</th>\n",
       "      <th>tailnum</th>\n",
       "      <th>origin</th>\n",
       "      <th>dest</th>\n",
       "      <th>air_time</th>\n",
       "      <th>distance</th>\n",
       "      <th>hour</th>\n",
       "      <th>minute</th>\n",
       "      <th>time_hour</th>\n",
       "      <th>speed_in_mph</th>\n",
       "      <th>date</th>\n",
       "    </tr>\n",
       "  </thead>\n",
       "  <tbody>\n",
       "    <tr>\n",
       "      <th>0</th>\n",
       "      <td>0</td>\n",
       "      <td>2013</td>\n",
       "      <td>1</td>\n",
       "      <td>1</td>\n",
       "      <td>517.0</td>\n",
       "      <td>515</td>\n",
       "      <td>2.0</td>\n",
       "      <td>830.0</td>\n",
       "      <td>819</td>\n",
       "      <td>11.0</td>\n",
       "      <td>...</td>\n",
       "      <td>N14228</td>\n",
       "      <td>EWR</td>\n",
       "      <td>IAH</td>\n",
       "      <td>227.0</td>\n",
       "      <td>1400</td>\n",
       "      <td>5</td>\n",
       "      <td>15</td>\n",
       "      <td>01-01-2013 05:00</td>\n",
       "      <td>370.044053</td>\n",
       "      <td>2013-1-1</td>\n",
       "    </tr>\n",
       "    <tr>\n",
       "      <th>1</th>\n",
       "      <td>1</td>\n",
       "      <td>2013</td>\n",
       "      <td>1</td>\n",
       "      <td>1</td>\n",
       "      <td>533.0</td>\n",
       "      <td>529</td>\n",
       "      <td>4.0</td>\n",
       "      <td>850.0</td>\n",
       "      <td>830</td>\n",
       "      <td>20.0</td>\n",
       "      <td>...</td>\n",
       "      <td>N24211</td>\n",
       "      <td>LGA</td>\n",
       "      <td>IAH</td>\n",
       "      <td>227.0</td>\n",
       "      <td>1416</td>\n",
       "      <td>5</td>\n",
       "      <td>29</td>\n",
       "      <td>01-01-2013 05:00</td>\n",
       "      <td>374.273128</td>\n",
       "      <td>2013-1-1</td>\n",
       "    </tr>\n",
       "    <tr>\n",
       "      <th>2</th>\n",
       "      <td>2</td>\n",
       "      <td>2013</td>\n",
       "      <td>1</td>\n",
       "      <td>1</td>\n",
       "      <td>542.0</td>\n",
       "      <td>540</td>\n",
       "      <td>2.0</td>\n",
       "      <td>923.0</td>\n",
       "      <td>850</td>\n",
       "      <td>33.0</td>\n",
       "      <td>...</td>\n",
       "      <td>N619AA</td>\n",
       "      <td>JFK</td>\n",
       "      <td>MIA</td>\n",
       "      <td>160.0</td>\n",
       "      <td>1089</td>\n",
       "      <td>5</td>\n",
       "      <td>40</td>\n",
       "      <td>01-01-2013 05:00</td>\n",
       "      <td>408.375000</td>\n",
       "      <td>2013-1-1</td>\n",
       "    </tr>\n",
       "    <tr>\n",
       "      <th>19</th>\n",
       "      <td>19</td>\n",
       "      <td>2013</td>\n",
       "      <td>1</td>\n",
       "      <td>1</td>\n",
       "      <td>601.0</td>\n",
       "      <td>600</td>\n",
       "      <td>1.0</td>\n",
       "      <td>844.0</td>\n",
       "      <td>850</td>\n",
       "      <td>-6.0</td>\n",
       "      <td>...</td>\n",
       "      <td>N644JB</td>\n",
       "      <td>EWR</td>\n",
       "      <td>PBI</td>\n",
       "      <td>147.0</td>\n",
       "      <td>1023</td>\n",
       "      <td>6</td>\n",
       "      <td>0</td>\n",
       "      <td>01-01-2013 06:00</td>\n",
       "      <td>417.551020</td>\n",
       "      <td>2013-1-1</td>\n",
       "    </tr>\n",
       "    <tr>\n",
       "      <th>25</th>\n",
       "      <td>25</td>\n",
       "      <td>2013</td>\n",
       "      <td>1</td>\n",
       "      <td>1</td>\n",
       "      <td>608.0</td>\n",
       "      <td>600</td>\n",
       "      <td>8.0</td>\n",
       "      <td>807.0</td>\n",
       "      <td>735</td>\n",
       "      <td>32.0</td>\n",
       "      <td>...</td>\n",
       "      <td>N9EAMQ</td>\n",
       "      <td>EWR</td>\n",
       "      <td>ORD</td>\n",
       "      <td>139.0</td>\n",
       "      <td>719</td>\n",
       "      <td>6</td>\n",
       "      <td>0</td>\n",
       "      <td>01-01-2013 06:00</td>\n",
       "      <td>310.359712</td>\n",
       "      <td>2013-1-1</td>\n",
       "    </tr>\n",
       "  </tbody>\n",
       "</table>\n",
       "<p>5 rows × 22 columns</p>\n",
       "</div>"
      ],
      "text/plain": [
       "    Unnamed: 0  year  month  day  dep_time  sched_dep_time  dep_delay  \\\n",
       "0            0  2013      1    1     517.0             515        2.0   \n",
       "1            1  2013      1    1     533.0             529        4.0   \n",
       "2            2  2013      1    1     542.0             540        2.0   \n",
       "19          19  2013      1    1     601.0             600        1.0   \n",
       "25          25  2013      1    1     608.0             600        8.0   \n",
       "\n",
       "    arr_time  sched_arr_time  arr_delay    ...    tailnum  origin dest  \\\n",
       "0      830.0             819       11.0    ...     N14228     EWR  IAH   \n",
       "1      850.0             830       20.0    ...     N24211     LGA  IAH   \n",
       "2      923.0             850       33.0    ...     N619AA     JFK  MIA   \n",
       "19     844.0             850       -6.0    ...     N644JB     EWR  PBI   \n",
       "25     807.0             735       32.0    ...     N9EAMQ     EWR  ORD   \n",
       "\n",
       "   air_time distance  hour  minute         time_hour  speed_in_mph      date  \n",
       "0     227.0     1400     5      15  01-01-2013 05:00    370.044053  2013-1-1  \n",
       "1     227.0     1416     5      29  01-01-2013 05:00    374.273128  2013-1-1  \n",
       "2     160.0     1089     5      40  01-01-2013 05:00    408.375000  2013-1-1  \n",
       "19    147.0     1023     6       0  01-01-2013 06:00    417.551020  2013-1-1  \n",
       "25    139.0      719     6       0  01-01-2013 06:00    310.359712  2013-1-1  \n",
       "\n",
       "[5 rows x 22 columns]"
      ]
     },
     "execution_count": 100,
     "metadata": {},
     "output_type": "execute_result"
    }
   ],
   "source": [
    "# Find variable thats needs to be taken care(either drop or fill).\n",
    "df.head(5)"
   ]
  },
  {
   "cell_type": "code",
   "execution_count": 101,
   "metadata": {
    "collapsed": false
   },
   "outputs": [
    {
     "data": {
      "text/html": [
       "<div>\n",
       "<table border=\"1\" class=\"dataframe\">\n",
       "  <thead>\n",
       "    <tr style=\"text-align: right;\">\n",
       "      <th></th>\n",
       "      <th>dep_delay</th>\n",
       "    </tr>\n",
       "  </thead>\n",
       "  <tbody>\n",
       "    <tr>\n",
       "      <th>count</th>\n",
       "      <td>136684.000000</td>\n",
       "    </tr>\n",
       "    <tr>\n",
       "      <th>mean</th>\n",
       "      <td>37.974880</td>\n",
       "    </tr>\n",
       "    <tr>\n",
       "      <th>std</th>\n",
       "      <td>52.957721</td>\n",
       "    </tr>\n",
       "    <tr>\n",
       "      <th>min</th>\n",
       "      <td>0.141047</td>\n",
       "    </tr>\n",
       "    <tr>\n",
       "      <th>25%</th>\n",
       "      <td>7.000000</td>\n",
       "    </tr>\n",
       "    <tr>\n",
       "      <th>50%</th>\n",
       "      <td>19.000000</td>\n",
       "    </tr>\n",
       "    <tr>\n",
       "      <th>75%</th>\n",
       "      <td>47.000000</td>\n",
       "    </tr>\n",
       "    <tr>\n",
       "      <th>max</th>\n",
       "      <td>1301.000000</td>\n",
       "    </tr>\n",
       "  </tbody>\n",
       "</table>\n",
       "</div>"
      ],
      "text/plain": [
       "           dep_delay\n",
       "count  136684.000000\n",
       "mean       37.974880\n",
       "std        52.957721\n",
       "min         0.141047\n",
       "25%         7.000000\n",
       "50%        19.000000\n",
       "75%        47.000000\n",
       "max      1301.000000"
      ]
     },
     "execution_count": 101,
     "metadata": {},
     "output_type": "execute_result"
    }
   ],
   "source": [
    "df.loc[:, [\"dep_delay\"] ].describe()"
   ]
  },
  {
   "cell_type": "code",
   "execution_count": 102,
   "metadata": {
    "collapsed": false
   },
   "outputs": [
    {
     "data": {
      "text/html": [
       "<div>\n",
       "<table border=\"1\" class=\"dataframe\">\n",
       "  <thead>\n",
       "    <tr style=\"text-align: right;\">\n",
       "      <th></th>\n",
       "      <th></th>\n",
       "      <th>dep_delay</th>\n",
       "    </tr>\n",
       "    <tr>\n",
       "      <th>origin</th>\n",
       "      <th></th>\n",
       "      <th></th>\n",
       "    </tr>\n",
       "  </thead>\n",
       "  <tbody>\n",
       "    <tr>\n",
       "      <th rowspan=\"8\" valign=\"top\">EWR</th>\n",
       "      <th>count</th>\n",
       "      <td>55950.000000</td>\n",
       "    </tr>\n",
       "    <tr>\n",
       "      <th>mean</th>\n",
       "      <td>37.850291</td>\n",
       "    </tr>\n",
       "    <tr>\n",
       "      <th>std</th>\n",
       "      <td>51.280845</td>\n",
       "    </tr>\n",
       "    <tr>\n",
       "      <th>min</th>\n",
       "      <td>0.141047</td>\n",
       "    </tr>\n",
       "    <tr>\n",
       "      <th>25%</th>\n",
       "      <td>7.000000</td>\n",
       "    </tr>\n",
       "    <tr>\n",
       "      <th>50%</th>\n",
       "      <td>19.781088</td>\n",
       "    </tr>\n",
       "    <tr>\n",
       "      <th>75%</th>\n",
       "      <td>48.000000</td>\n",
       "    </tr>\n",
       "    <tr>\n",
       "      <th>max</th>\n",
       "      <td>1126.000000</td>\n",
       "    </tr>\n",
       "    <tr>\n",
       "      <th rowspan=\"8\" valign=\"top\">JFK</th>\n",
       "      <th>count</th>\n",
       "      <td>43894.000000</td>\n",
       "    </tr>\n",
       "    <tr>\n",
       "      <th>mean</th>\n",
       "      <td>37.111030</td>\n",
       "    </tr>\n",
       "    <tr>\n",
       "      <th>std</th>\n",
       "      <td>52.562893</td>\n",
       "    </tr>\n",
       "    <tr>\n",
       "      <th>min</th>\n",
       "      <td>0.141047</td>\n",
       "    </tr>\n",
       "    <tr>\n",
       "      <th>25%</th>\n",
       "      <td>6.000000</td>\n",
       "    </tr>\n",
       "    <tr>\n",
       "      <th>50%</th>\n",
       "      <td>17.004497</td>\n",
       "    </tr>\n",
       "    <tr>\n",
       "      <th>75%</th>\n",
       "      <td>46.000000</td>\n",
       "    </tr>\n",
       "    <tr>\n",
       "      <th>max</th>\n",
       "      <td>1301.000000</td>\n",
       "    </tr>\n",
       "    <tr>\n",
       "      <th rowspan=\"8\" valign=\"top\">LGA</th>\n",
       "      <th>count</th>\n",
       "      <td>36840.000000</td>\n",
       "    </tr>\n",
       "    <tr>\n",
       "      <th>mean</th>\n",
       "      <td>39.193356</td>\n",
       "    </tr>\n",
       "    <tr>\n",
       "      <th>std</th>\n",
       "      <td>55.833539</td>\n",
       "    </tr>\n",
       "    <tr>\n",
       "      <th>min</th>\n",
       "      <td>0.141047</td>\n",
       "    </tr>\n",
       "    <tr>\n",
       "      <th>25%</th>\n",
       "      <td>7.000000</td>\n",
       "    </tr>\n",
       "    <tr>\n",
       "      <th>50%</th>\n",
       "      <td>19.000000</td>\n",
       "    </tr>\n",
       "    <tr>\n",
       "      <th>75%</th>\n",
       "      <td>48.000000</td>\n",
       "    </tr>\n",
       "    <tr>\n",
       "      <th>max</th>\n",
       "      <td>911.000000</td>\n",
       "    </tr>\n",
       "  </tbody>\n",
       "</table>\n",
       "</div>"
      ],
      "text/plain": [
       "                 dep_delay\n",
       "origin                    \n",
       "EWR    count  55950.000000\n",
       "       mean      37.850291\n",
       "       std       51.280845\n",
       "       min        0.141047\n",
       "       25%        7.000000\n",
       "       50%       19.781088\n",
       "       75%       48.000000\n",
       "       max     1126.000000\n",
       "JFK    count  43894.000000\n",
       "       mean      37.111030\n",
       "       std       52.562893\n",
       "       min        0.141047\n",
       "       25%        6.000000\n",
       "       50%       17.004497\n",
       "       75%       46.000000\n",
       "       max     1301.000000\n",
       "LGA    count  36840.000000\n",
       "       mean      39.193356\n",
       "       std       55.833539\n",
       "       min        0.141047\n",
       "       25%        7.000000\n",
       "       50%       19.000000\n",
       "       75%       48.000000\n",
       "       max      911.000000"
      ]
     },
     "execution_count": 102,
     "metadata": {},
     "output_type": "execute_result"
    }
   ],
   "source": [
    "# Descriptive statistics by group\n",
    "# dep_delay & flight groupby origin(airports)\n",
    "grp_dep = df[['dep_delay']].groupby(df['origin']).describe()\n",
    "grp_dep\n",
    "\n"
   ]
  },
  {
   "cell_type": "code",
   "execution_count": 103,
   "metadata": {
    "collapsed": true
   },
   "outputs": [],
   "source": [
    "# Filter flights that are delayed (ie. Dep_delay > 0 mins)\n",
    "df = df[df['dep_delay'] > 0]"
   ]
  },
  {
   "cell_type": "code",
   "execution_count": 116,
   "metadata": {
    "collapsed": false
   },
   "outputs": [
    {
     "data": {
      "text/plain": [
       "[<matplotlib.lines.Line2D at 0x182b58e6358>]"
      ]
     },
     "execution_count": 116,
     "metadata": {},
     "output_type": "execute_result"
    },
    {
     "data": {
      "text/plain": [
       "<matplotlib.text.Text at 0x182ba280eb8>"
      ]
     },
     "execution_count": 116,
     "metadata": {},
     "output_type": "execute_result"
    },
    {
     "data": {
      "text/plain": [
       "<matplotlib.text.Text at 0x182be2854e0>"
      ]
     },
     "execution_count": 116,
     "metadata": {},
     "output_type": "execute_result"
    },
    {
     "data": {
      "text/plain": [
       "<matplotlib.text.Text at 0x182b58cf470>"
      ]
     },
     "execution_count": 116,
     "metadata": {},
     "output_type": "execute_result"
    },
    {
     "data": {
      "image/png": "[encoded data removed]",
      "text/plain": [
       "<matplotlib.figure.Figure at 0x182b754db00>"
      ]
     },
     "metadata": {},
     "output_type": "display_data"
    },
    {
     "data": {
      "text/plain": [
       "[<matplotlib.lines.Line2D at 0x1829db62c18>,\n",
       " <matplotlib.lines.Line2D at 0x1829db62e10>,\n",
       " <matplotlib.lines.Line2D at 0x1829db62fd0>,\n",
       " <matplotlib.lines.Line2D at 0x1829db6b278>,\n",
       " <matplotlib.lines.Line2D at 0x1829db6b4a8>,\n",
       " <matplotlib.lines.Line2D at 0x1829db6b6d8>,\n",
       " <matplotlib.lines.Line2D at 0x1829db6b908>,\n",
       " <matplotlib.lines.Line2D at 0x1829db24be0>,\n",
       " <matplotlib.lines.Line2D at 0x1829db6bd30>,\n",
       " <matplotlib.lines.Line2D at 0x1829db6bf60>,\n",
       " <matplotlib.lines.Line2D at 0x1829db6e1d0>,\n",
       " <matplotlib.lines.Line2D at 0x1829db6e400>,\n",
       " <matplotlib.lines.Line2D at 0x1829db6e630>,\n",
       " <matplotlib.lines.Line2D at 0x1829db6e860>,\n",
       " <matplotlib.lines.Line2D at 0x1829db6ea90>,\n",
       " <matplotlib.lines.Line2D at 0x1829db6ecc0>,\n",
       " <matplotlib.lines.Line2D at 0x1829db6eef0>,\n",
       " <matplotlib.lines.Line2D at 0x1829db73160>,\n",
       " <matplotlib.lines.Line2D at 0x1829db73390>,\n",
       " <matplotlib.lines.Line2D at 0x1829db735c0>,\n",
       " <matplotlib.lines.Line2D at 0x1829db737f0>]"
      ]
     },
     "execution_count": 116,
     "metadata": {},
     "output_type": "execute_result"
    },
    {
     "data": {
      "text/plain": [
       "<matplotlib.text.Text at 0x182be289c50>"
      ]
     },
     "execution_count": 116,
     "metadata": {},
     "output_type": "execute_result"
    },
    {
     "data": {
      "text/plain": [
       "<matplotlib.text.Text at 0x1829c185080>"
      ]
     },
     "execution_count": 116,
     "metadata": {},
     "output_type": "execute_result"
    },
    {
     "data": {
      "text/plain": [
       "<matplotlib.text.Text at 0x1829db39550>"
      ]
     },
     "execution_count": 116,
     "metadata": {},
     "output_type": "execute_result"
    },
    {
     "data": {
      "image/png": "[encoded data removed]",
      "text/plain": [
       "<matplotlib.figure.Figure at 0x182ba296160>"
      ]
     },
     "metadata": {},
     "output_type": "display_data"
    }
   ],
   "source": [
    "# Exploring the seasonal patterns in average departure delay in mins by Month\n",
    "plt.plot(df.groupby('month')['dep_delay'].mean())\n",
    "plt.xlabel('Months', size = 12)\n",
    "plt.ylabel('Avg Departure delay in mins')\n",
    "plt.title('Avg Departure Delay in mins by Month')\n",
    "plt.show()\n",
    "\n",
    "# Exploring the seasonal patterns in total number of delayed by Month\n",
    "plt.plot(df.groupby('month').count())\n",
    "plt.xlabel('Months', size = 12)\n",
    "plt.ylabel('Total Number of Delayed Flights')\n",
    "plt.title('Total Number of Delayed Flights by Month')\n",
    "plt.show()"
   ]
  },
  {
   "cell_type": "code",
   "execution_count": 96,
   "metadata": {
    "collapsed": false
   },
   "outputs": [
    {
     "data": {
      "text/plain": [
       "<matplotlib.figure.Figure at 0x182b73b8a20>"
      ]
     },
     "execution_count": 96,
     "metadata": {},
     "output_type": "execute_result"
    },
    {
     "data": {
      "text/plain": [
       "(array([  3.17485393e-02,   1.45163336e-02,   8.18867217e-03,\n",
       "          5.04705660e-03,   3.73045759e-03,   2.74961664e-03,\n",
       "          2.16189944e-03,   1.67766546e-03,   1.31941105e-03,\n",
       "          1.06857673e-03,   8.25053714e-04,   6.66454432e-04,\n",
       "          5.73656979e-04,   4.79734709e-04,   3.98747841e-04,\n",
       "          3.13261703e-04,   2.55896005e-04,   2.07528848e-04,\n",
       "          1.80533226e-04,   1.27104390e-04,   1.12481761e-04,\n",
       "          9.72967229e-05,   8.09868677e-05,   5.90529243e-05,\n",
       "          5.39912451e-05,   4.49927043e-05,   3.09324842e-05,\n",
       "          2.69956226e-05,   2.02467169e-05,   2.19339433e-05,\n",
       "          1.23729937e-05,   1.51850377e-05,   6.18649683e-06,\n",
       "          6.74890564e-06,   3.37445282e-06,   1.12481761e-06,\n",
       "          4.49927043e-06,   3.37445282e-06,   3.93686162e-06,\n",
       "          2.24963521e-06,   5.62408803e-07,   1.12481761e-06,\n",
       "          5.62408803e-07,   0.00000000e+00,   1.12481761e-06,\n",
       "          1.68722641e-06,   1.12481761e-06,   5.62408803e-07,\n",
       "          1.68722641e-06,   5.62408803e-07,   1.12481761e-06,\n",
       "          0.00000000e+00,   5.62408803e-07,   1.12481761e-06,\n",
       "          0.00000000e+00,   0.00000000e+00,   0.00000000e+00,\n",
       "          1.12481761e-06,   5.62408803e-07,   0.00000000e+00,\n",
       "          2.24963521e-06,   2.24963521e-06,   5.62408803e-07,\n",
       "          5.62408803e-07,   5.62408803e-07,   2.24963521e-06,\n",
       "          0.00000000e+00,   5.62408803e-07,   5.62408803e-07,\n",
       "          1.12481761e-06,   5.62408803e-07,   0.00000000e+00,\n",
       "          0.00000000e+00,   5.62408803e-07,   0.00000000e+00,\n",
       "          0.00000000e+00,   0.00000000e+00,   1.12481761e-06,\n",
       "          0.00000000e+00,   0.00000000e+00,   0.00000000e+00,\n",
       "          0.00000000e+00,   0.00000000e+00,   0.00000000e+00,\n",
       "          0.00000000e+00,   0.00000000e+00,   5.62408803e-07,\n",
       "          5.62408803e-07,   0.00000000e+00,   0.00000000e+00,\n",
       "          0.00000000e+00,   0.00000000e+00,   0.00000000e+00,\n",
       "          0.00000000e+00,   0.00000000e+00,   0.00000000e+00,\n",
       "          0.00000000e+00,   0.00000000e+00,   0.00000000e+00,\n",
       "          5.62408803e-07]),\n",
       " array([  1.41046832e-01,   1.31496364e+01,   2.61582259e+01,\n",
       "          3.91668154e+01,   5.21754050e+01,   6.51839945e+01,\n",
       "          7.81925840e+01,   9.12011736e+01,   1.04209763e+02,\n",
       "          1.17218353e+02,   1.30226942e+02,   1.43235532e+02,\n",
       "          1.56244121e+02,   1.69252711e+02,   1.82261300e+02,\n",
       "          1.95269890e+02,   2.08278479e+02,   2.21287069e+02,\n",
       "          2.34295658e+02,   2.47304248e+02,   2.60312837e+02,\n",
       "          2.73321427e+02,   2.86330017e+02,   2.99338606e+02,\n",
       "          3.12347196e+02,   3.25355785e+02,   3.38364375e+02,\n",
       "          3.51372964e+02,   3.64381554e+02,   3.77390143e+02,\n",
       "          3.90398733e+02,   4.03407322e+02,   4.16415912e+02,\n",
       "          4.29424501e+02,   4.42433091e+02,   4.55441680e+02,\n",
       "          4.68450270e+02,   4.81458860e+02,   4.94467449e+02,\n",
       "          5.07476039e+02,   5.20484628e+02,   5.33493218e+02,\n",
       "          5.46501807e+02,   5.59510397e+02,   5.72518986e+02,\n",
       "          5.85527576e+02,   5.98536165e+02,   6.11544755e+02,\n",
       "          6.24553344e+02,   6.37561934e+02,   6.50570523e+02,\n",
       "          6.63579113e+02,   6.76587702e+02,   6.89596292e+02,\n",
       "          7.02604882e+02,   7.15613471e+02,   7.28622061e+02,\n",
       "          7.41630650e+02,   7.54639240e+02,   7.67647829e+02,\n",
       "          7.80656419e+02,   7.93665008e+02,   8.06673598e+02,\n",
       "          8.19682187e+02,   8.32690777e+02,   8.45699366e+02,\n",
       "          8.58707956e+02,   8.71716545e+02,   8.84725135e+02,\n",
       "          8.97733725e+02,   9.10742314e+02,   9.23750904e+02,\n",
       "          9.36759493e+02,   9.49768083e+02,   9.62776672e+02,\n",
       "          9.75785262e+02,   9.88793851e+02,   1.00180244e+03,\n",
       "          1.01481103e+03,   1.02781962e+03,   1.04082821e+03,\n",
       "          1.05383680e+03,   1.06684539e+03,   1.07985398e+03,\n",
       "          1.09286257e+03,   1.10587116e+03,   1.11887975e+03,\n",
       "          1.13188834e+03,   1.14489693e+03,   1.15790552e+03,\n",
       "          1.17091410e+03,   1.18392269e+03,   1.19693128e+03,\n",
       "          1.20993987e+03,   1.22294846e+03,   1.23595705e+03,\n",
       "          1.24896564e+03,   1.26197423e+03,   1.27498282e+03,\n",
       "          1.28799141e+03,   1.30100000e+03]),\n",
       " <a list of 100 Patch objects>)"
      ]
     },
     "execution_count": 96,
     "metadata": {},
     "output_type": "execute_result"
    },
    {
     "data": {
      "text/plain": [
       "(-50, 300)"
      ]
     },
     "execution_count": 96,
     "metadata": {},
     "output_type": "execute_result"
    },
    {
     "data": {
      "text/plain": [
       "<matplotlib.text.Text at 0x1829d6328d0>"
      ]
     },
     "execution_count": 96,
     "metadata": {},
     "output_type": "execute_result"
    },
    {
     "data": {
      "text/plain": [
       "<matplotlib.text.Text at 0x1829c3b62e8>"
      ]
     },
     "execution_count": 96,
     "metadata": {},
     "output_type": "execute_result"
    },
    {
     "data": {
      "text/plain": [
       "<matplotlib.text.Text at 0x1829c3d6d68>"
      ]
     },
     "execution_count": 96,
     "metadata": {},
     "output_type": "execute_result"
    },
    {
     "data": {
      "image/png": "[encoded data removed]",
      "text/plain": [
       "<matplotlib.figure.Figure at 0x182b73b8a20>"
      ]
     },
     "metadata": {},
     "output_type": "display_data"
    }
   ],
   "source": [
    "# plt departure delay distribution\n",
    "plt.figure(figsize=(24, 12))\n",
    "plt.hist(dep_delay.dep_delay, bins = 100, normed=1, alpha=0.75)\n",
    "plt.xlim(-50,300)\n",
    "plt.xlabel('Minutes ')\n",
    "plt.ylabel('Probability')\n",
    "plt.title('Departure Delay Distribution')"
   ]
  },
  {
   "cell_type": "code",
   "execution_count": 105,
   "metadata": {
    "collapsed": false
   },
   "outputs": [
    {
     "data": {
      "text/html": [
       "<div>\n",
       "<table border=\"1\" class=\"dataframe\">\n",
       "  <thead>\n",
       "    <tr style=\"text-align: right;\">\n",
       "      <th></th>\n",
       "      <th>origin</th>\n",
       "      <th>dest</th>\n",
       "      <th>speed_in_mph</th>\n",
       "    </tr>\n",
       "  </thead>\n",
       "  <tbody>\n",
       "    <tr>\n",
       "      <th>216447</th>\n",
       "      <td>LGA</td>\n",
       "      <td>ATL</td>\n",
       "      <td>703.384615</td>\n",
       "    </tr>\n",
       "    <tr>\n",
       "      <th>251999</th>\n",
       "      <td>EWR</td>\n",
       "      <td>MSP</td>\n",
       "      <td>650.322581</td>\n",
       "    </tr>\n",
       "    <tr>\n",
       "      <th>205388</th>\n",
       "      <td>EWR</td>\n",
       "      <td>GSP</td>\n",
       "      <td>648.000000</td>\n",
       "    </tr>\n",
       "    <tr>\n",
       "      <th>157516</th>\n",
       "      <td>EWR</td>\n",
       "      <td>BNA</td>\n",
       "      <td>641.142857</td>\n",
       "    </tr>\n",
       "    <tr>\n",
       "      <th>119700</th>\n",
       "      <td>JFK</td>\n",
       "      <td>SJU</td>\n",
       "      <td>554.219653</td>\n",
       "    </tr>\n",
       "    <tr>\n",
       "      <th>70551</th>\n",
       "      <td>JFK</td>\n",
       "      <td>SJU</td>\n",
       "      <td>554.219653</td>\n",
       "    </tr>\n",
       "    <tr>\n",
       "      <th>71314</th>\n",
       "      <td>JFK</td>\n",
       "      <td>SJU</td>\n",
       "      <td>554.219653</td>\n",
       "    </tr>\n",
       "    <tr>\n",
       "      <th>144509</th>\n",
       "      <td>JFK</td>\n",
       "      <td>SJU</td>\n",
       "      <td>551.034483</td>\n",
       "    </tr>\n",
       "    <tr>\n",
       "      <th>129686</th>\n",
       "      <td>JFK</td>\n",
       "      <td>SJU</td>\n",
       "      <td>551.034483</td>\n",
       "    </tr>\n",
       "    <tr>\n",
       "      <th>70792</th>\n",
       "      <td>EWR</td>\n",
       "      <td>STT</td>\n",
       "      <td>550.786517</td>\n",
       "    </tr>\n",
       "  </tbody>\n",
       "</table>\n",
       "</div>"
      ],
      "text/plain": [
       "       origin dest  speed_in_mph\n",
       "216447    LGA  ATL    703.384615\n",
       "251999    EWR  MSP    650.322581\n",
       "205388    EWR  GSP    648.000000\n",
       "157516    EWR  BNA    641.142857\n",
       "119700    JFK  SJU    554.219653\n",
       "70551     JFK  SJU    554.219653\n",
       "71314     JFK  SJU    554.219653\n",
       "144509    JFK  SJU    551.034483\n",
       "129686    JFK  SJU    551.034483\n",
       "70792     EWR  STT    550.786517"
      ]
     },
     "execution_count": 105,
     "metadata": {},
     "output_type": "execute_result"
    }
   ],
   "source": [
    "# First 10 fastest flight departing from NYC\n",
    "df['speed_in_mph'] = df.distance/(df.air_time/60)\n",
    "x = ['origin','dest','speed_in_mph']\n",
    "df.sort_values('speed_in_mph',ascending = False)[x].head(10)"
   ]
  },
  {
   "cell_type": "code",
   "execution_count": 114,
   "metadata": {
    "collapsed": false
   },
   "outputs": [
    {
     "data": {
      "text/plain": [
       "<matplotlib.figure.Figure at 0x182bd610e48>"
      ]
     },
     "execution_count": 114,
     "metadata": {},
     "output_type": "execute_result"
    },
    {
     "data": {
      "text/plain": [
       "<matplotlib.axes._subplots.AxesSubplot at 0x182bd938668>"
      ]
     },
     "execution_count": 114,
     "metadata": {},
     "output_type": "execute_result"
    },
    {
     "data": {
      "text/plain": [
       "(array([0, 1, 2]), <a list of 3 Text xticklabel objects>)"
      ]
     },
     "execution_count": 114,
     "metadata": {},
     "output_type": "execute_result"
    },
    {
     "data": {
      "text/plain": [
       "<matplotlib.text.Text at 0x182bd92bdd8>"
      ]
     },
     "execution_count": 114,
     "metadata": {},
     "output_type": "execute_result"
    },
    {
     "data": {
      "text/plain": [
       "<matplotlib.text.Text at 0x182bdd33b38>"
      ]
     },
     "execution_count": 114,
     "metadata": {},
     "output_type": "execute_result"
    },
    {
     "data": {
      "text/plain": [
       "<matplotlib.text.Text at 0x182bd4ee668>"
      ]
     },
     "execution_count": 114,
     "metadata": {},
     "output_type": "execute_result"
    },
    {
     "data": {
      "text/plain": [
       "<matplotlib.figure.Figure at 0x182bd953940>"
      ]
     },
     "execution_count": 114,
     "metadata": {},
     "output_type": "execute_result"
    },
    {
     "data": {
      "text/plain": [
       "<matplotlib.axes._subplots.AxesSubplot at 0x182bd4c8860>"
      ]
     },
     "execution_count": 114,
     "metadata": {},
     "output_type": "execute_result"
    },
    {
     "data": {
      "text/plain": [
       "(array([0, 1, 2]), <a list of 3 Text xticklabel objects>)"
      ]
     },
     "execution_count": 114,
     "metadata": {},
     "output_type": "execute_result"
    },
    {
     "data": {
      "text/plain": [
       "<matplotlib.text.Text at 0x182bd4fe358>"
      ]
     },
     "execution_count": 114,
     "metadata": {},
     "output_type": "execute_result"
    },
    {
     "data": {
      "text/plain": [
       "<matplotlib.text.Text at 0x182a099f518>"
      ]
     },
     "execution_count": 114,
     "metadata": {},
     "output_type": "execute_result"
    },
    {
     "data": {
      "text/plain": [
       "<matplotlib.text.Text at 0x182ba35a7b8>"
      ]
     },
     "execution_count": 114,
     "metadata": {},
     "output_type": "execute_result"
    },
    {
     "data": {
      "text/plain": [
       "<matplotlib.figure.Figure at 0x182bd610e48>"
      ]
     },
     "metadata": {},
     "output_type": "display_data"
    },
    {
     "data": {
      "image/png": "[encoded data removed]",
      "text/plain": [
       "<matplotlib.figure.Figure at 0x182bae325f8>"
      ]
     },
     "metadata": {},
     "output_type": "display_data"
    },
    {
     "data": {
      "text/plain": [
       "<matplotlib.figure.Figure at 0x182bd953940>"
      ]
     },
     "metadata": {},
     "output_type": "display_data"
    },
    {
     "data": {
      "image/png": "[encoded data removed]",
      "text/plain": [
       "<matplotlib.figure.Figure at 0x182bd4c36a0>"
      ]
     },
     "metadata": {},
     "output_type": "display_data"
    }
   ],
   "source": [
    "#departure delay w.r.t origin\n",
    "plt.figure(figsize=(12, 6))\n",
    "df[['origin','dep_delay']].groupby('origin').mean().plot(kind='bar')\n",
    "plt.xticks(rotation=0)\n",
    "plt.xlabel('Orgin')\n",
    "plt.ylabel('Departure Delay in Minutes')\n",
    "plt.title('Average Departure Delay w.r.t origin')\n",
    "\n",
    "#departure delay w.r.t origin\n",
    "plt.figure(figsize=(12, 6))\n",
    "df[['origin','month']].groupby('origin').count().plot(kind='bar')\n",
    "plt.xticks(rotation=0)\n",
    "plt.xlabel('Orgin')\n",
    "plt.ylabel('Departure Delay in Minutes')\n",
    "plt.title('Total Number of Delayed Flights w.r.t Origin')"
   ]
  },
  {
   "cell_type": "code",
   "execution_count": null,
   "metadata": {
    "collapsed": true
   },
   "outputs": [],
   "source": []
  },
  {
   "cell_type": "code",
   "execution_count": null,
   "metadata": {
    "collapsed": true
   },
   "outputs": [],
   "source": []
  }
 ],
 "metadata": {
  "kernelspec": {
   "display_name": "Python 3",
   "language": "python",
   "name": "python3"
  },
  "language_info": {
   "codemirror_mode": {
    "name": "ipython",
    "version": 3
   },
   "file_extension": ".py",
   "mimetype": "text/x-python",
   "name": "python",
   "nbconvert_exporter": "python",
   "pygments_lexer": "ipython3",
   "version": "3.6.0"
  }
 },
 "nbformat": 4,
 "nbformat_minor": 2
}
