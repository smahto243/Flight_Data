{
 "cells": [
  {
   "cell_type": "code",
   "execution_count": 4,
   "metadata": {},
   "outputs": [
    {
     "data": {
      "text/plain": [
       "'\\nFirst, import the required Python dependencies.\\n'"
      ]
     },
     "execution_count": 4,
     "metadata": {},
     "output_type": "execute_result"
    }
   ],
   "source": [
    "\"\"\"\n",
    "First, import the required Python dependencies.\n",
    "\"\"\"\n",
    "import numpy as np\n",
    "import pandas as pd\n",
    "import matplotlib.pyplot as plt\n",
    "import seaborn as sns\n",
    "\n",
    "import matplotlib.pyplot as plt # module for plotting \n",
    "% matplotlib inline\n",
    "\n",
    "from IPython.core.interactiveshell import InteractiveShell\n",
    "InteractiveShell.ast_node_interactivity = \"all\""
   ]
  },
  {
   "cell_type": "code",
   "execution_count": 5,
   "metadata": {},
   "outputs": [],
   "source": [
    "# Pandas Dataframe\n",
    "df = pd.read_csv('flight_data_cleaned.csv')"
   ]
  },
  {
   "cell_type": "code",
   "execution_count": 6,
   "metadata": {},
   "outputs": [
    {
     "data": {
      "text/plain": [
       "Unnamed: 0        336776\n",
       "year              336776\n",
       "month             336776\n",
       "day               336776\n",
       "dep_time          336776\n",
       "sched_dep_time    336776\n",
       "dep_delay         336776\n",
       "arr_time          336776\n",
       "sched_arr_time    336776\n",
       "arr_delay         336776\n",
       "carrier           336776\n",
       "flight            336776\n",
       "tailnum           334264\n",
       "origin            336776\n",
       "dest              336776\n",
       "air_time          336776\n",
       "distance          336776\n",
       "hour              336776\n",
       "minute            336776\n",
       "time_hour         336776\n",
       "dtype: int64"
      ]
     },
     "execution_count": 6,
     "metadata": {},
     "output_type": "execute_result"
    }
   ],
   "source": [
    "# Find variable thats needs to be taken care(either drop or fill). \n",
    "df.count()\n"
   ]
  },
  {
   "cell_type": "code",
   "execution_count": 7,
   "metadata": {},
   "outputs": [
    {
     "data": {
      "text/html": [
       "<div>\n",
       "<style>\n",
       "    .dataframe thead tr:only-child th {\n",
       "        text-align: right;\n",
       "    }\n",
       "\n",
       "    .dataframe thead th {\n",
       "        text-align: left;\n",
       "    }\n",
       "\n",
       "    .dataframe tbody tr th {\n",
       "        vertical-align: top;\n",
       "    }\n",
       "</style>\n",
       "<table border=\"1\" class=\"dataframe\">\n",
       "  <thead>\n",
       "    <tr style=\"text-align: right;\">\n",
       "      <th></th>\n",
       "      <th>dep_delay</th>\n",
       "    </tr>\n",
       "  </thead>\n",
       "  <tbody>\n",
       "    <tr>\n",
       "      <th>count</th>\n",
       "      <td>336776.000000</td>\n",
       "    </tr>\n",
       "    <tr>\n",
       "      <th>mean</th>\n",
       "      <td>12.726444</td>\n",
       "    </tr>\n",
       "    <tr>\n",
       "      <th>std</th>\n",
       "      <td>39.738848</td>\n",
       "    </tr>\n",
       "    <tr>\n",
       "      <th>min</th>\n",
       "      <td>-43.000000</td>\n",
       "    </tr>\n",
       "    <tr>\n",
       "      <th>25%</th>\n",
       "      <td>-5.000000</td>\n",
       "    </tr>\n",
       "    <tr>\n",
       "      <th>50%</th>\n",
       "      <td>-1.000000</td>\n",
       "    </tr>\n",
       "    <tr>\n",
       "      <th>75%</th>\n",
       "      <td>12.000000</td>\n",
       "    </tr>\n",
       "    <tr>\n",
       "      <th>max</th>\n",
       "      <td>1301.000000</td>\n",
       "    </tr>\n",
       "  </tbody>\n",
       "</table>\n",
       "</div>"
      ],
      "text/plain": [
       "           dep_delay\n",
       "count  336776.000000\n",
       "mean       12.726444\n",
       "std        39.738848\n",
       "min       -43.000000\n",
       "25%        -5.000000\n",
       "50%        -1.000000\n",
       "75%        12.000000\n",
       "max      1301.000000"
      ]
     },
     "execution_count": 7,
     "metadata": {},
     "output_type": "execute_result"
    }
   ],
   "source": [
    "df = df[df[\"dep_delay\"]]\n",
    "df.loc[:, [\"dep_delay\"] ].describe()"
   ]
  },
  {
   "cell_type": "code",
   "execution_count": 13,
   "metadata": {},
   "outputs": [
    {
     "data": {
      "text/html": [
       "<div>\n",
       "<style>\n",
       "    .dataframe thead tr:only-child th {\n",
       "        text-align: right;\n",
       "    }\n",
       "\n",
       "    .dataframe thead th {\n",
       "        text-align: left;\n",
       "    }\n",
       "\n",
       "    .dataframe tbody tr th {\n",
       "        vertical-align: top;\n",
       "    }\n",
       "</style>\n",
       "<table border=\"1\" class=\"dataframe\">\n",
       "  <thead>\n",
       "    <tr>\n",
       "      <th></th>\n",
       "      <th colspan=\"8\" halign=\"left\">dep_delay</th>\n",
       "    </tr>\n",
       "    <tr>\n",
       "      <th></th>\n",
       "      <th>count</th>\n",
       "      <th>mean</th>\n",
       "      <th>std</th>\n",
       "      <th>min</th>\n",
       "      <th>25%</th>\n",
       "      <th>50%</th>\n",
       "      <th>75%</th>\n",
       "      <th>max</th>\n",
       "    </tr>\n",
       "    <tr>\n",
       "      <th>origin</th>\n",
       "      <th></th>\n",
       "      <th></th>\n",
       "      <th></th>\n",
       "      <th></th>\n",
       "      <th></th>\n",
       "      <th></th>\n",
       "      <th></th>\n",
       "      <th></th>\n",
       "    </tr>\n",
       "  </thead>\n",
       "  <tbody>\n",
       "    <tr>\n",
       "      <th>EWR</th>\n",
       "      <td>120835.0</td>\n",
       "      <td>15.221308</td>\n",
       "      <td>40.789520</td>\n",
       "      <td>-25.0</td>\n",
       "      <td>-4.0</td>\n",
       "      <td>0.0</td>\n",
       "      <td>17.0</td>\n",
       "      <td>1126.0</td>\n",
       "    </tr>\n",
       "    <tr>\n",
       "      <th>JFK</th>\n",
       "      <td>111279.0</td>\n",
       "      <td>12.177244</td>\n",
       "      <td>38.722719</td>\n",
       "      <td>-43.0</td>\n",
       "      <td>-4.0</td>\n",
       "      <td>-1.0</td>\n",
       "      <td>11.0</td>\n",
       "      <td>1301.0</td>\n",
       "    </tr>\n",
       "    <tr>\n",
       "      <th>LGA</th>\n",
       "      <td>104662.0</td>\n",
       "      <td>10.429979</td>\n",
       "      <td>39.414590</td>\n",
       "      <td>-33.0</td>\n",
       "      <td>-6.0</td>\n",
       "      <td>-3.0</td>\n",
       "      <td>8.0</td>\n",
       "      <td>911.0</td>\n",
       "    </tr>\n",
       "  </tbody>\n",
       "</table>\n",
       "</div>"
      ],
      "text/plain": [
       "       dep_delay                                                    \n",
       "           count       mean        std   min  25%  50%   75%     max\n",
       "origin                                                              \n",
       "EWR     120835.0  15.221308  40.789520 -25.0 -4.0  0.0  17.0  1126.0\n",
       "JFK     111279.0  12.177244  38.722719 -43.0 -4.0 -1.0  11.0  1301.0\n",
       "LGA     104662.0  10.429979  39.414590 -33.0 -6.0 -3.0   8.0   911.0"
      ]
     },
     "execution_count": 13,
     "metadata": {},
     "output_type": "execute_result"
    }
   ],
   "source": [
    "# Descriptive statistics by group\n",
    "# dep_delay & flight groupby origin(airports)\n",
    "grp_dep = df[['dep_delay']].groupby(df['origin']).describe()\n",
    "grp_dep\n",
    "\n"
   ]
  },
  {
   "cell_type": "code",
   "execution_count": 14,
   "metadata": {},
   "outputs": [
    {
     "data": {
      "text/plain": [
       "<matplotlib.figure.Figure at 0x7f9240493850>"
      ]
     },
     "execution_count": 14,
     "metadata": {},
     "output_type": "execute_result"
    },
    {
     "data": {
      "text/plain": [
       "(array([  1.10466247e-06,   0.00000000e+00,   0.00000000e+00,\n",
       "          1.10466247e-06,   2.20932495e-06,   1.10466247e-06,\n",
       "          3.31398742e-06,   2.31979120e-05,   7.51170483e-05,\n",
       "          2.10990533e-04,   1.17977952e-03,   5.76854744e-03,\n",
       "          1.52067836e-02,   5.43979989e-02,   8.13705425e-02,\n",
       "          6.27923290e-02,   1.60507458e-02,   1.68195908e-02,\n",
       "          1.27124558e-02,   7.65862494e-03,   9.33992122e-03,\n",
       "          7.91711595e-03,   4.79313048e-03,   6.52303191e-03,\n",
       "          5.43935802e-03,   4.32364893e-03,   4.63516374e-03,\n",
       "          3.73375916e-03,   2.22368556e-03,   2.91299495e-03,\n",
       "          2.76717950e-03,   2.57165424e-03,   1.60176059e-03,\n",
       "          2.15961514e-03,   2.07897478e-03,   1.22948933e-03,\n",
       "          1.83594903e-03,   1.77077395e-03,   1.06047598e-03,\n",
       "          1.53989949e-03,   1.40513067e-03,   9.17974516e-04,\n",
       "          1.29355976e-03,   1.22065203e-03,   7.02565334e-04,\n",
       "          1.09472051e-03,   1.01628948e-03,   9.73207640e-04,\n",
       "          6.26343623e-04,   8.93671942e-04,   8.15240906e-04,\n",
       "          5.51226575e-04,   7.89833669e-04,   7.08088646e-04,\n",
       "          4.30818365e-04,   6.61692822e-04,   5.88785099e-04,\n",
       "          3.82213216e-04,   6.10878348e-04,   5.09249401e-04,\n",
       "          3.57910642e-04,   5.12563388e-04,   4.78318851e-04,\n",
       "          4.54016277e-04,   2.56281694e-04,   4.19771740e-04,\n",
       "          3.78899229e-04,   2.31979120e-04,   3.63433954e-04,\n",
       "          3.14828805e-04,   1.90001946e-04,   3.18142793e-04,\n",
       "          2.98258868e-04,   1.93315933e-04,   2.78374944e-04,\n",
       "          2.86107581e-04,   1.90001946e-04,   2.18723170e-04,\n",
       "          2.52967707e-04,   2.50758382e-04,   1.39187472e-04,\n",
       "          1.92211271e-04,   2.22037157e-04,   1.38082809e-04,\n",
       "          1.95525258e-04,   1.67908696e-04,   1.25931522e-04,\n",
       "          1.80059983e-04,   1.56862071e-04,   8.72683355e-05,\n",
       "          1.44710784e-04,   1.50234097e-04,   9.94196227e-05,\n",
       "          1.40292134e-04,   1.25931522e-04,   1.09361585e-04,\n",
       "          7.18030608e-05,   1.06047598e-04,   1.14884897e-04,\n",
       "          6.62797485e-05,   8.06403606e-05,   9.61056353e-05,\n",
       "          6.95937359e-05,   7.95356982e-05,   8.72683355e-05,\n",
       "          5.52331237e-05,   8.17450231e-05,   7.06983984e-05,\n",
       "          3.75585241e-05,   4.86051489e-05,   6.51750860e-05,\n",
       "          5.52331237e-05,   4.30818365e-05,   5.30237988e-05,\n",
       "          4.52911615e-05,   3.53491992e-05,   5.19191363e-05,\n",
       "          5.19191363e-05,   3.20352118e-05,   4.63958239e-05,\n",
       "          4.41864990e-05,   2.20932495e-05,   3.97678491e-05,\n",
       "          4.19771740e-05,   3.42445367e-05,   3.42445367e-05,\n",
       "          2.76165619e-05,   2.43025744e-05,   1.98839245e-05,\n",
       "          2.20932495e-05,   3.53491992e-05,   1.43606122e-05,\n",
       "          2.76165619e-05,   3.09305493e-05,   1.54652746e-05,\n",
       "          2.31979120e-05,   1.98839245e-05,   1.32559497e-05,\n",
       "          1.98839245e-05,   1.65699371e-05,   2.98258868e-05,\n",
       "          8.83729980e-06,   1.54652746e-05,   1.10466247e-05,\n",
       "          7.73263732e-06,   1.43606122e-05,   1.65699371e-05,\n",
       "          9.94196227e-06,   1.43606122e-05,   8.83729980e-06,\n",
       "          7.73263732e-06,   8.83729980e-06,   1.21512872e-05,\n",
       "          4.41864990e-06,   8.83729980e-06,   1.32559497e-05,\n",
       "          6.62797485e-06,   8.83729980e-06,   1.10466247e-05,\n",
       "          5.52331237e-06,   7.73263732e-06,   9.94196227e-06,\n",
       "          4.41864990e-06,   7.73263732e-06,   3.31398742e-06,\n",
       "          2.20932495e-06,   8.83729980e-06,   7.73263732e-06,\n",
       "          6.62797485e-06,   4.41864990e-06,   2.20932495e-06,\n",
       "          3.31398742e-06,   4.41864990e-06,   2.20932495e-06,\n",
       "          2.20932495e-06,   2.20932495e-06,   4.41864990e-06,\n",
       "          1.10466247e-06,   4.41864990e-06,   1.10466247e-06,\n",
       "          1.10466247e-06,   1.10466247e-06,   1.10466247e-06,\n",
       "          0.00000000e+00,   3.31398742e-06,   0.00000000e+00,\n",
       "          0.00000000e+00,   0.00000000e+00,   0.00000000e+00,\n",
       "          2.20932495e-06,   1.10466247e-06,   4.41864990e-06,\n",
       "          1.10466247e-06,   1.10466247e-06,   1.10466247e-06,\n",
       "          2.20932495e-06,   3.31398742e-06,   0.00000000e+00,\n",
       "          0.00000000e+00,   1.10466247e-06,   0.00000000e+00,\n",
       "          0.00000000e+00,   4.41864990e-06,   3.31398742e-06,\n",
       "          1.10466247e-06,   1.10466247e-06,   0.00000000e+00,\n",
       "          1.10466247e-06,   0.00000000e+00,   1.10466247e-06,\n",
       "          0.00000000e+00,   0.00000000e+00,   0.00000000e+00,\n",
       "          0.00000000e+00,   1.10466247e-06,   1.10466247e-06,\n",
       "          0.00000000e+00,   0.00000000e+00,   1.10466247e-06,\n",
       "          1.10466247e-06,   0.00000000e+00,   0.00000000e+00,\n",
       "          0.00000000e+00,   0.00000000e+00,   0.00000000e+00,\n",
       "          0.00000000e+00,   0.00000000e+00,   0.00000000e+00,\n",
       "          0.00000000e+00,   0.00000000e+00,   1.10466247e-06,\n",
       "          1.10466247e-06,   0.00000000e+00,   0.00000000e+00,\n",
       "          0.00000000e+00,   1.10466247e-06,   2.20932495e-06,\n",
       "          0.00000000e+00,   1.10466247e-06,   1.10466247e-06,\n",
       "          0.00000000e+00,   0.00000000e+00,   0.00000000e+00,\n",
       "          0.00000000e+00,   1.10466247e-06,   0.00000000e+00,\n",
       "          0.00000000e+00,   0.00000000e+00,   0.00000000e+00,\n",
       "          0.00000000e+00,   1.10466247e-06,   1.10466247e-06,\n",
       "          1.10466247e-06,   1.10466247e-06,   0.00000000e+00,\n",
       "          0.00000000e+00,   0.00000000e+00,   0.00000000e+00,\n",
       "          1.10466247e-06,   0.00000000e+00,   0.00000000e+00,\n",
       "          1.10466247e-06,   0.00000000e+00,   0.00000000e+00,\n",
       "          0.00000000e+00,   0.00000000e+00,   0.00000000e+00,\n",
       "          0.00000000e+00,   0.00000000e+00,   0.00000000e+00,\n",
       "          0.00000000e+00,   1.10466247e-06,   0.00000000e+00,\n",
       "          0.00000000e+00,   1.10466247e-06,   0.00000000e+00,\n",
       "          0.00000000e+00,   1.10466247e-06,   0.00000000e+00,\n",
       "          0.00000000e+00,   0.00000000e+00,   0.00000000e+00,\n",
       "          0.00000000e+00,   0.00000000e+00,   0.00000000e+00,\n",
       "          0.00000000e+00,   0.00000000e+00,   0.00000000e+00,\n",
       "          0.00000000e+00,   0.00000000e+00,   0.00000000e+00,\n",
       "          0.00000000e+00,   0.00000000e+00,   1.10466247e-06,\n",
       "          0.00000000e+00,   0.00000000e+00,   1.10466247e-06,\n",
       "          0.00000000e+00,   0.00000000e+00,   1.10466247e-06,\n",
       "          0.00000000e+00,   0.00000000e+00,   0.00000000e+00,\n",
       "          0.00000000e+00,   0.00000000e+00,   0.00000000e+00,\n",
       "          0.00000000e+00,   0.00000000e+00,   2.20932495e-06,\n",
       "          2.20932495e-06,   0.00000000e+00,   0.00000000e+00,\n",
       "          2.20932495e-06,   1.10466247e-06,   1.10466247e-06,\n",
       "          0.00000000e+00,   0.00000000e+00,   0.00000000e+00,\n",
       "          1.10466247e-06,   0.00000000e+00,   0.00000000e+00,\n",
       "          0.00000000e+00,   1.10466247e-06,   0.00000000e+00,\n",
       "          0.00000000e+00,   0.00000000e+00,   0.00000000e+00,\n",
       "          0.00000000e+00,   0.00000000e+00,   0.00000000e+00,\n",
       "          1.10466247e-06,   1.10466247e-06,   0.00000000e+00,\n",
       "          3.31398742e-06,   0.00000000e+00,   0.00000000e+00,\n",
       "          0.00000000e+00,   0.00000000e+00,   0.00000000e+00,\n",
       "          0.00000000e+00,   0.00000000e+00,   0.00000000e+00,\n",
       "          1.10466247e-06,   0.00000000e+00,   0.00000000e+00,\n",
       "          0.00000000e+00,   0.00000000e+00,   0.00000000e+00,\n",
       "          0.00000000e+00,   1.10466247e-06,   2.20932495e-06,\n",
       "          0.00000000e+00,   0.00000000e+00,   0.00000000e+00,\n",
       "          1.10466247e-06,   0.00000000e+00,   0.00000000e+00,\n",
       "          0.00000000e+00,   0.00000000e+00,   0.00000000e+00,\n",
       "          0.00000000e+00,   0.00000000e+00,   0.00000000e+00,\n",
       "          0.00000000e+00,   0.00000000e+00,   0.00000000e+00,\n",
       "          0.00000000e+00,   0.00000000e+00,   0.00000000e+00,\n",
       "          0.00000000e+00,   0.00000000e+00,   0.00000000e+00,\n",
       "          0.00000000e+00,   1.10466247e-06,   0.00000000e+00,\n",
       "          0.00000000e+00,   0.00000000e+00,   0.00000000e+00,\n",
       "          0.00000000e+00,   0.00000000e+00,   0.00000000e+00,\n",
       "          0.00000000e+00,   0.00000000e+00,   0.00000000e+00,\n",
       "          0.00000000e+00,   0.00000000e+00,   0.00000000e+00,\n",
       "          0.00000000e+00,   0.00000000e+00,   1.10466247e-06,\n",
       "          0.00000000e+00,   0.00000000e+00,   0.00000000e+00,\n",
       "          1.10466247e-06,   0.00000000e+00,   0.00000000e+00,\n",
       "          0.00000000e+00,   0.00000000e+00,   0.00000000e+00,\n",
       "          0.00000000e+00,   0.00000000e+00,   0.00000000e+00,\n",
       "          0.00000000e+00,   0.00000000e+00,   0.00000000e+00,\n",
       "          0.00000000e+00,   0.00000000e+00,   0.00000000e+00,\n",
       "          0.00000000e+00,   0.00000000e+00,   0.00000000e+00,\n",
       "          0.00000000e+00,   0.00000000e+00,   0.00000000e+00,\n",
       "          0.00000000e+00,   0.00000000e+00,   0.00000000e+00,\n",
       "          0.00000000e+00,   0.00000000e+00,   0.00000000e+00,\n",
       "          0.00000000e+00,   0.00000000e+00,   0.00000000e+00,\n",
       "          0.00000000e+00,   0.00000000e+00,   0.00000000e+00,\n",
       "          0.00000000e+00,   0.00000000e+00,   0.00000000e+00,\n",
       "          0.00000000e+00,   0.00000000e+00,   0.00000000e+00,\n",
       "          0.00000000e+00,   0.00000000e+00,   1.10466247e-06,\n",
       "          0.00000000e+00,   0.00000000e+00,   0.00000000e+00,\n",
       "          1.10466247e-06,   0.00000000e+00,   0.00000000e+00,\n",
       "          0.00000000e+00,   0.00000000e+00,   0.00000000e+00,\n",
       "          0.00000000e+00,   0.00000000e+00,   0.00000000e+00,\n",
       "          0.00000000e+00,   0.00000000e+00,   0.00000000e+00,\n",
       "          0.00000000e+00,   0.00000000e+00,   0.00000000e+00,\n",
       "          0.00000000e+00,   0.00000000e+00,   0.00000000e+00,\n",
       "          0.00000000e+00,   0.00000000e+00,   0.00000000e+00,\n",
       "          0.00000000e+00,   0.00000000e+00,   0.00000000e+00,\n",
       "          0.00000000e+00,   0.00000000e+00,   0.00000000e+00,\n",
       "          0.00000000e+00,   0.00000000e+00,   0.00000000e+00,\n",
       "          0.00000000e+00,   0.00000000e+00,   0.00000000e+00,\n",
       "          0.00000000e+00,   0.00000000e+00,   0.00000000e+00,\n",
       "          0.00000000e+00,   0.00000000e+00,   0.00000000e+00,\n",
       "          0.00000000e+00,   0.00000000e+00,   0.00000000e+00,\n",
       "          0.00000000e+00,   0.00000000e+00,   0.00000000e+00,\n",
       "          0.00000000e+00,   0.00000000e+00,   0.00000000e+00,\n",
       "          0.00000000e+00,   0.00000000e+00,   0.00000000e+00,\n",
       "          0.00000000e+00,   0.00000000e+00,   0.00000000e+00,\n",
       "          0.00000000e+00,   0.00000000e+00,   0.00000000e+00,\n",
       "          0.00000000e+00,   0.00000000e+00,   0.00000000e+00,\n",
       "          0.00000000e+00,   1.10466247e-06]),\n",
       " array([ -4.30000000e+01,  -4.03120000e+01,  -3.76240000e+01,\n",
       "         -3.49360000e+01,  -3.22480000e+01,  -2.95600000e+01,\n",
       "         -2.68720000e+01,  -2.41840000e+01,  -2.14960000e+01,\n",
       "         -1.88080000e+01,  -1.61200000e+01,  -1.34320000e+01,\n",
       "         -1.07440000e+01,  -8.05600000e+00,  -5.36800000e+00,\n",
       "         -2.68000000e+00,   8.00000000e-03,   2.69600000e+00,\n",
       "          5.38400000e+00,   8.07200000e+00,   1.07600000e+01,\n",
       "          1.34480000e+01,   1.61360000e+01,   1.88240000e+01,\n",
       "          2.15120000e+01,   2.42000000e+01,   2.68880000e+01,\n",
       "          2.95760000e+01,   3.22640000e+01,   3.49520000e+01,\n",
       "          3.76400000e+01,   4.03280000e+01,   4.30160000e+01,\n",
       "          4.57040000e+01,   4.83920000e+01,   5.10800000e+01,\n",
       "          5.37680000e+01,   5.64560000e+01,   5.91440000e+01,\n",
       "          6.18320000e+01,   6.45200000e+01,   6.72080000e+01,\n",
       "          6.98960000e+01,   7.25840000e+01,   7.52720000e+01,\n",
       "          7.79600000e+01,   8.06480000e+01,   8.33360000e+01,\n",
       "          8.60240000e+01,   8.87120000e+01,   9.14000000e+01,\n",
       "          9.40880000e+01,   9.67760000e+01,   9.94640000e+01,\n",
       "          1.02152000e+02,   1.04840000e+02,   1.07528000e+02,\n",
       "          1.10216000e+02,   1.12904000e+02,   1.15592000e+02,\n",
       "          1.18280000e+02,   1.20968000e+02,   1.23656000e+02,\n",
       "          1.26344000e+02,   1.29032000e+02,   1.31720000e+02,\n",
       "          1.34408000e+02,   1.37096000e+02,   1.39784000e+02,\n",
       "          1.42472000e+02,   1.45160000e+02,   1.47848000e+02,\n",
       "          1.50536000e+02,   1.53224000e+02,   1.55912000e+02,\n",
       "          1.58600000e+02,   1.61288000e+02,   1.63976000e+02,\n",
       "          1.66664000e+02,   1.69352000e+02,   1.72040000e+02,\n",
       "          1.74728000e+02,   1.77416000e+02,   1.80104000e+02,\n",
       "          1.82792000e+02,   1.85480000e+02,   1.88168000e+02,\n",
       "          1.90856000e+02,   1.93544000e+02,   1.96232000e+02,\n",
       "          1.98920000e+02,   2.01608000e+02,   2.04296000e+02,\n",
       "          2.06984000e+02,   2.09672000e+02,   2.12360000e+02,\n",
       "          2.15048000e+02,   2.17736000e+02,   2.20424000e+02,\n",
       "          2.23112000e+02,   2.25800000e+02,   2.28488000e+02,\n",
       "          2.31176000e+02,   2.33864000e+02,   2.36552000e+02,\n",
       "          2.39240000e+02,   2.41928000e+02,   2.44616000e+02,\n",
       "          2.47304000e+02,   2.49992000e+02,   2.52680000e+02,\n",
       "          2.55368000e+02,   2.58056000e+02,   2.60744000e+02,\n",
       "          2.63432000e+02,   2.66120000e+02,   2.68808000e+02,\n",
       "          2.71496000e+02,   2.74184000e+02,   2.76872000e+02,\n",
       "          2.79560000e+02,   2.82248000e+02,   2.84936000e+02,\n",
       "          2.87624000e+02,   2.90312000e+02,   2.93000000e+02,\n",
       "          2.95688000e+02,   2.98376000e+02,   3.01064000e+02,\n",
       "          3.03752000e+02,   3.06440000e+02,   3.09128000e+02,\n",
       "          3.11816000e+02,   3.14504000e+02,   3.17192000e+02,\n",
       "          3.19880000e+02,   3.22568000e+02,   3.25256000e+02,\n",
       "          3.27944000e+02,   3.30632000e+02,   3.33320000e+02,\n",
       "          3.36008000e+02,   3.38696000e+02,   3.41384000e+02,\n",
       "          3.44072000e+02,   3.46760000e+02,   3.49448000e+02,\n",
       "          3.52136000e+02,   3.54824000e+02,   3.57512000e+02,\n",
       "          3.60200000e+02,   3.62888000e+02,   3.65576000e+02,\n",
       "          3.68264000e+02,   3.70952000e+02,   3.73640000e+02,\n",
       "          3.76328000e+02,   3.79016000e+02,   3.81704000e+02,\n",
       "          3.84392000e+02,   3.87080000e+02,   3.89768000e+02,\n",
       "          3.92456000e+02,   3.95144000e+02,   3.97832000e+02,\n",
       "          4.00520000e+02,   4.03208000e+02,   4.05896000e+02,\n",
       "          4.08584000e+02,   4.11272000e+02,   4.13960000e+02,\n",
       "          4.16648000e+02,   4.19336000e+02,   4.22024000e+02,\n",
       "          4.24712000e+02,   4.27400000e+02,   4.30088000e+02,\n",
       "          4.32776000e+02,   4.35464000e+02,   4.38152000e+02,\n",
       "          4.40840000e+02,   4.43528000e+02,   4.46216000e+02,\n",
       "          4.48904000e+02,   4.51592000e+02,   4.54280000e+02,\n",
       "          4.56968000e+02,   4.59656000e+02,   4.62344000e+02,\n",
       "          4.65032000e+02,   4.67720000e+02,   4.70408000e+02,\n",
       "          4.73096000e+02,   4.75784000e+02,   4.78472000e+02,\n",
       "          4.81160000e+02,   4.83848000e+02,   4.86536000e+02,\n",
       "          4.89224000e+02,   4.91912000e+02,   4.94600000e+02,\n",
       "          4.97288000e+02,   4.99976000e+02,   5.02664000e+02,\n",
       "          5.05352000e+02,   5.08040000e+02,   5.10728000e+02,\n",
       "          5.13416000e+02,   5.16104000e+02,   5.18792000e+02,\n",
       "          5.21480000e+02,   5.24168000e+02,   5.26856000e+02,\n",
       "          5.29544000e+02,   5.32232000e+02,   5.34920000e+02,\n",
       "          5.37608000e+02,   5.40296000e+02,   5.42984000e+02,\n",
       "          5.45672000e+02,   5.48360000e+02,   5.51048000e+02,\n",
       "          5.53736000e+02,   5.56424000e+02,   5.59112000e+02,\n",
       "          5.61800000e+02,   5.64488000e+02,   5.67176000e+02,\n",
       "          5.69864000e+02,   5.72552000e+02,   5.75240000e+02,\n",
       "          5.77928000e+02,   5.80616000e+02,   5.83304000e+02,\n",
       "          5.85992000e+02,   5.88680000e+02,   5.91368000e+02,\n",
       "          5.94056000e+02,   5.96744000e+02,   5.99432000e+02,\n",
       "          6.02120000e+02,   6.04808000e+02,   6.07496000e+02,\n",
       "          6.10184000e+02,   6.12872000e+02,   6.15560000e+02,\n",
       "          6.18248000e+02,   6.20936000e+02,   6.23624000e+02,\n",
       "          6.26312000e+02,   6.29000000e+02,   6.31688000e+02,\n",
       "          6.34376000e+02,   6.37064000e+02,   6.39752000e+02,\n",
       "          6.42440000e+02,   6.45128000e+02,   6.47816000e+02,\n",
       "          6.50504000e+02,   6.53192000e+02,   6.55880000e+02,\n",
       "          6.58568000e+02,   6.61256000e+02,   6.63944000e+02,\n",
       "          6.66632000e+02,   6.69320000e+02,   6.72008000e+02,\n",
       "          6.74696000e+02,   6.77384000e+02,   6.80072000e+02,\n",
       "          6.82760000e+02,   6.85448000e+02,   6.88136000e+02,\n",
       "          6.90824000e+02,   6.93512000e+02,   6.96200000e+02,\n",
       "          6.98888000e+02,   7.01576000e+02,   7.04264000e+02,\n",
       "          7.06952000e+02,   7.09640000e+02,   7.12328000e+02,\n",
       "          7.15016000e+02,   7.17704000e+02,   7.20392000e+02,\n",
       "          7.23080000e+02,   7.25768000e+02,   7.28456000e+02,\n",
       "          7.31144000e+02,   7.33832000e+02,   7.36520000e+02,\n",
       "          7.39208000e+02,   7.41896000e+02,   7.44584000e+02,\n",
       "          7.47272000e+02,   7.49960000e+02,   7.52648000e+02,\n",
       "          7.55336000e+02,   7.58024000e+02,   7.60712000e+02,\n",
       "          7.63400000e+02,   7.66088000e+02,   7.68776000e+02,\n",
       "          7.71464000e+02,   7.74152000e+02,   7.76840000e+02,\n",
       "          7.79528000e+02,   7.82216000e+02,   7.84904000e+02,\n",
       "          7.87592000e+02,   7.90280000e+02,   7.92968000e+02,\n",
       "          7.95656000e+02,   7.98344000e+02,   8.01032000e+02,\n",
       "          8.03720000e+02,   8.06408000e+02,   8.09096000e+02,\n",
       "          8.11784000e+02,   8.14472000e+02,   8.17160000e+02,\n",
       "          8.19848000e+02,   8.22536000e+02,   8.25224000e+02,\n",
       "          8.27912000e+02,   8.30600000e+02,   8.33288000e+02,\n",
       "          8.35976000e+02,   8.38664000e+02,   8.41352000e+02,\n",
       "          8.44040000e+02,   8.46728000e+02,   8.49416000e+02,\n",
       "          8.52104000e+02,   8.54792000e+02,   8.57480000e+02,\n",
       "          8.60168000e+02,   8.62856000e+02,   8.65544000e+02,\n",
       "          8.68232000e+02,   8.70920000e+02,   8.73608000e+02,\n",
       "          8.76296000e+02,   8.78984000e+02,   8.81672000e+02,\n",
       "          8.84360000e+02,   8.87048000e+02,   8.89736000e+02,\n",
       "          8.92424000e+02,   8.95112000e+02,   8.97800000e+02,\n",
       "          9.00488000e+02,   9.03176000e+02,   9.05864000e+02,\n",
       "          9.08552000e+02,   9.11240000e+02,   9.13928000e+02,\n",
       "          9.16616000e+02,   9.19304000e+02,   9.21992000e+02,\n",
       "          9.24680000e+02,   9.27368000e+02,   9.30056000e+02,\n",
       "          9.32744000e+02,   9.35432000e+02,   9.38120000e+02,\n",
       "          9.40808000e+02,   9.43496000e+02,   9.46184000e+02,\n",
       "          9.48872000e+02,   9.51560000e+02,   9.54248000e+02,\n",
       "          9.56936000e+02,   9.59624000e+02,   9.62312000e+02,\n",
       "          9.65000000e+02,   9.67688000e+02,   9.70376000e+02,\n",
       "          9.73064000e+02,   9.75752000e+02,   9.78440000e+02,\n",
       "          9.81128000e+02,   9.83816000e+02,   9.86504000e+02,\n",
       "          9.89192000e+02,   9.91880000e+02,   9.94568000e+02,\n",
       "          9.97256000e+02,   9.99944000e+02,   1.00263200e+03,\n",
       "          1.00532000e+03,   1.00800800e+03,   1.01069600e+03,\n",
       "          1.01338400e+03,   1.01607200e+03,   1.01876000e+03,\n",
       "          1.02144800e+03,   1.02413600e+03,   1.02682400e+03,\n",
       "          1.02951200e+03,   1.03220000e+03,   1.03488800e+03,\n",
       "          1.03757600e+03,   1.04026400e+03,   1.04295200e+03,\n",
       "          1.04564000e+03,   1.04832800e+03,   1.05101600e+03,\n",
       "          1.05370400e+03,   1.05639200e+03,   1.05908000e+03,\n",
       "          1.06176800e+03,   1.06445600e+03,   1.06714400e+03,\n",
       "          1.06983200e+03,   1.07252000e+03,   1.07520800e+03,\n",
       "          1.07789600e+03,   1.08058400e+03,   1.08327200e+03,\n",
       "          1.08596000e+03,   1.08864800e+03,   1.09133600e+03,\n",
       "          1.09402400e+03,   1.09671200e+03,   1.09940000e+03,\n",
       "          1.10208800e+03,   1.10477600e+03,   1.10746400e+03,\n",
       "          1.11015200e+03,   1.11284000e+03,   1.11552800e+03,\n",
       "          1.11821600e+03,   1.12090400e+03,   1.12359200e+03,\n",
       "          1.12628000e+03,   1.12896800e+03,   1.13165600e+03,\n",
       "          1.13434400e+03,   1.13703200e+03,   1.13972000e+03,\n",
       "          1.14240800e+03,   1.14509600e+03,   1.14778400e+03,\n",
       "          1.15047200e+03,   1.15316000e+03,   1.15584800e+03,\n",
       "          1.15853600e+03,   1.16122400e+03,   1.16391200e+03,\n",
       "          1.16660000e+03,   1.16928800e+03,   1.17197600e+03,\n",
       "          1.17466400e+03,   1.17735200e+03,   1.18004000e+03,\n",
       "          1.18272800e+03,   1.18541600e+03,   1.18810400e+03,\n",
       "          1.19079200e+03,   1.19348000e+03,   1.19616800e+03,\n",
       "          1.19885600e+03,   1.20154400e+03,   1.20423200e+03,\n",
       "          1.20692000e+03,   1.20960800e+03,   1.21229600e+03,\n",
       "          1.21498400e+03,   1.21767200e+03,   1.22036000e+03,\n",
       "          1.22304800e+03,   1.22573600e+03,   1.22842400e+03,\n",
       "          1.23111200e+03,   1.23380000e+03,   1.23648800e+03,\n",
       "          1.23917600e+03,   1.24186400e+03,   1.24455200e+03,\n",
       "          1.24724000e+03,   1.24992800e+03,   1.25261600e+03,\n",
       "          1.25530400e+03,   1.25799200e+03,   1.26068000e+03,\n",
       "          1.26336800e+03,   1.26605600e+03,   1.26874400e+03,\n",
       "          1.27143200e+03,   1.27412000e+03,   1.27680800e+03,\n",
       "          1.27949600e+03,   1.28218400e+03,   1.28487200e+03,\n",
       "          1.28756000e+03,   1.29024800e+03,   1.29293600e+03,\n",
       "          1.29562400e+03,   1.29831200e+03,   1.30100000e+03]),\n",
       " <a list of 500 Patch objects>)"
      ]
     },
     "execution_count": 14,
     "metadata": {},
     "output_type": "execute_result"
    },
    {
     "data": {
      "text/plain": [
       "(-50, 300)"
      ]
     },
     "execution_count": 14,
     "metadata": {},
     "output_type": "execute_result"
    },
    {
     "data": {
      "text/plain": [
       "<matplotlib.text.Text at 0x7f92404f6e90>"
      ]
     },
     "execution_count": 14,
     "metadata": {},
     "output_type": "execute_result"
    },
    {
     "data": {
      "text/plain": [
       "<matplotlib.text.Text at 0x7f92405f5650>"
      ]
     },
     "execution_count": 14,
     "metadata": {},
     "output_type": "execute_result"
    },
    {
     "data": {
      "text/plain": [
       "<matplotlib.text.Text at 0x7f923d5195d0>"
      ]
     },
     "execution_count": 14,
     "metadata": {},
     "output_type": "execute_result"
    },
    {
     "data": {
      "image/png": "[encoded data removed]",
      "text/plain": [
       "<matplotlib.figure.Figure at 0x7f9240493850>"
      ]
     },
     "metadata": {},
     "output_type": "display_data"
    }
   ],
   "source": [
    "# plt departure delay distribution\n",
    "plt.figure(figsize=(24, 12))\n",
    "plt.hist(df.dep_delay, bins = 500, normed=1, alpha=0.75)\n",
    "plt.xlim(-50,300)\n",
    "plt.xlabel('Minutes ')\n",
    "plt.ylabel('Probability')\n",
    "plt.title('Departure Delay Distribution')"
   ]
  },
  {
   "cell_type": "code",
   "execution_count": 11,
   "metadata": {},
   "outputs": [
    {
     "data": {
      "text/plain": [
       "<matplotlib.figure.Figure at 0x7f9240670f90>"
      ]
     },
     "execution_count": 11,
     "metadata": {},
     "output_type": "execute_result"
    },
    {
     "data": {
      "text/plain": [
       "<matplotlib.axes._subplots.AxesSubplot at 0x7f9240628110>"
      ]
     },
     "execution_count": 11,
     "metadata": {},
     "output_type": "execute_result"
    },
    {
     "data": {
      "text/plain": [
       "(array([ 0,  1,  2,  3,  4,  5,  6,  7,  8,  9, 10, 11]),\n",
       " <a list of 12 Text xticklabel objects>)"
      ]
     },
     "execution_count": 11,
     "metadata": {},
     "output_type": "execute_result"
    },
    {
     "data": {
      "text/plain": [
       "<matplotlib.text.Text at 0x7f92410e6790>"
      ]
     },
     "execution_count": 11,
     "metadata": {},
     "output_type": "execute_result"
    },
    {
     "data": {
      "text/plain": [
       "<matplotlib.text.Text at 0x7f92406f5c10>"
      ]
     },
     "execution_count": 11,
     "metadata": {},
     "output_type": "execute_result"
    },
    {
     "data": {
      "text/plain": [
       "<matplotlib.text.Text at 0x7f92406097d0>"
      ]
     },
     "execution_count": 11,
     "metadata": {},
     "output_type": "execute_result"
    },
    {
     "data": {
      "text/plain": [
       "<matplotlib.figure.Figure at 0x7f9240670f90>"
      ]
     },
     "metadata": {},
     "output_type": "display_data"
    },
    {
     "data": {
      "image/png": "[encoded data removed]",
      "text/plain": [
       "<matplotlib.figure.Figure at 0x7f92743da550>"
      ]
     },
     "metadata": {},
     "output_type": "display_data"
    }
   ],
   "source": [
    "#departure delay w.r.t month\n",
    "plt.figure(figsize=(12, 6))\n",
    "df[['month','dep_delay']].groupby('month').mean().plot(kind='bar')\n",
    "plt.xticks(rotation=0)\n",
    "plt.xlabel('Month of Year')\n",
    "plt.ylabel('Departure Delay in Minutes')\n",
    "plt.title('Average Departure Delay by Month')"
   ]
  },
  {
   "cell_type": "code",
   "execution_count": 12,
   "metadata": {},
   "outputs": [
    {
     "data": {
      "text/plain": [
       "<matplotlib.figure.Figure at 0x7f92405cd450>"
      ]
     },
     "execution_count": 12,
     "metadata": {},
     "output_type": "execute_result"
    },
    {
     "data": {
      "text/plain": [
       "<matplotlib.axes._subplots.AxesSubplot at 0x7f9240573f10>"
      ]
     },
     "execution_count": 12,
     "metadata": {},
     "output_type": "execute_result"
    },
    {
     "data": {
      "text/plain": [
       "(array([0, 1, 2]), <a list of 3 Text xticklabel objects>)"
      ]
     },
     "execution_count": 12,
     "metadata": {},
     "output_type": "execute_result"
    },
    {
     "data": {
      "text/plain": [
       "<matplotlib.text.Text at 0x7f92404e1110>"
      ]
     },
     "execution_count": 12,
     "metadata": {},
     "output_type": "execute_result"
    },
    {
     "data": {
      "text/plain": [
       "<matplotlib.text.Text at 0x7f92404fe450>"
      ]
     },
     "execution_count": 12,
     "metadata": {},
     "output_type": "execute_result"
    },
    {
     "data": {
      "text/plain": [
       "<matplotlib.text.Text at 0x7f92404a6290>"
      ]
     },
     "execution_count": 12,
     "metadata": {},
     "output_type": "execute_result"
    },
    {
     "data": {
      "text/plain": [
       "<matplotlib.figure.Figure at 0x7f92405cd450>"
      ]
     },
     "metadata": {},
     "output_type": "display_data"
    },
    {
     "data": {
      "image/png": "[encoded data removed]",
      "text/plain": [
       "<matplotlib.figure.Figure at 0x7f92406d00d0>"
      ]
     },
     "metadata": {},
     "output_type": "display_data"
    }
   ],
   "source": [
    "#departure delay w.r.t origin\n",
    "plt.figure(figsize=(12, 6))\n",
    "df[['origin','dep_delay']].groupby('origin').mean().plot(kind='bar')\n",
    "plt.xticks(rotation=0)\n",
    "plt.xlabel('Orgin')\n",
    "plt.ylabel('Departure Delay in Minutes')\n",
    "plt.title('Average Departure Delay w.r.t origin')"
   ]
  },
  {
   "cell_type": "code",
   "execution_count": null,
   "metadata": {
    "collapsed": true
   },
   "outputs": [],
   "source": []
  },
  {
   "cell_type": "code",
   "execution_count": null,
   "metadata": {
    "collapsed": true
   },
   "outputs": [],
   "source": []
  }
 ],
 "metadata": {
  "kernelspec": {
   "display_name": "Python 3",
   "language": "python",
   "name": "python3"
  },
  "language_info": {
   "codemirror_mode": {
    "name": "ipython",
    "version": 2
   },
   "file_extension": ".py",
   "mimetype": "text/x-python",
   "name": "python",
   "nbconvert_exporter": "python",
   "pygments_lexer": "ipython2",
   "version": "2.7.6"
  }
 },
 "nbformat": 4,
 "nbformat_minor": 2
}
